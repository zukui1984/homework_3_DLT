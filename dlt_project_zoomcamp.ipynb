{
 "cells": [
  {
   "cell_type": "code",
   "execution_count": 34,
   "id": "77ec8cd1",
   "metadata": {},
   "outputs": [],
   "source": [
    "# %%capture\n",
    "# !pip install dlt[duckdb] \n",
    "\n",
    "import dlt\n",
    "import duckdb"
   ]
  },
  {
   "cell_type": "code",
   "execution_count": 35,
   "id": "b4a3d6f6",
   "metadata": {},
   "outputs": [
    {
     "name": "stdout",
     "output_type": "stream",
     "text": [
      "1.0\n",
      "1.4142135623730951\n",
      "1.7320508075688772\n",
      "2.0\n",
      "2.23606797749979\n"
     ]
    }
   ],
   "source": [
    "def square_root_generator(limit):\n",
    "    n = 1\n",
    "    while n <= limit:\n",
    "        yield n ** 0.5\n",
    "        n += 1\n",
    "\n",
    "# Example usage:\n",
    "limit = 5\n",
    "generator = square_root_generator(limit)\n",
    "\n",
    "for sqrt_value in generator:\n",
    "    print(sqrt_value)"
   ]
  },
  {
   "cell_type": "code",
   "execution_count": 36,
   "id": "d9a37c51",
   "metadata": {},
   "outputs": [
    {
     "data": {
      "text/plain": [
       "8.382332347441762"
      ]
     },
     "execution_count": 36,
     "metadata": {},
     "output_type": "execute_result"
    }
   ],
   "source": [
    "sum_generator = 1.0 + 1.4142135623730951 + 1.7320508075688772 + 2.0 + 2.23606797749979\n",
    "sum_generator"
   ]
  },
  {
   "cell_type": "code",
   "execution_count": 37,
   "id": "f62d0373",
   "metadata": {},
   "outputs": [
    {
     "name": "stdout",
     "output_type": "stream",
     "text": [
      "1.0\n",
      "1.4142135623730951\n",
      "1.7320508075688772\n",
      "2.0\n",
      "2.23606797749979\n",
      "2.449489742783178\n",
      "2.6457513110645907\n",
      "2.8284271247461903\n",
      "3.0\n",
      "3.1622776601683795\n",
      "3.3166247903554\n",
      "3.4641016151377544\n",
      "3.605551275463989\n"
     ]
    }
   ],
   "source": [
    "def square_root_generator(limit):\n",
    "    n = 1\n",
    "    while n <= limit:\n",
    "        yield n ** 0.5\n",
    "        n += 1\n",
    "\n",
    "# Example usage:\n",
    "limit = 13\n",
    "generator = square_root_generator(limit)\n",
    "\n",
    "for sqrt_value in generator:\n",
    "    print(sqrt_value)"
   ]
  },
  {
   "cell_type": "code",
   "execution_count": 54,
   "id": "69ea7faa",
   "metadata": {},
   "outputs": [
    {
     "name": "stdout",
     "output_type": "stream",
     "text": [
      "Pipeline dlt_ipykernel_launcher load step completed in 0.38 seconds\n",
      "1 load package(s) were loaded to destination duckdb and into dataset generators\n",
      "The duckdb destination used duckdb:///C:\\Users\\Anwender\\Jose Portilla DAnalysis\\dlt_ipykernel_launcher.duckdb location to store data\n",
      "Load package 1707333304.5552182 is LOADED and contains no failed jobs\n",
      "Pipeline dlt_ipykernel_launcher load step completed in 0.35 seconds\n",
      "1 load package(s) were loaded to destination duckdb and into dataset generators\n",
      "The duckdb destination used duckdb:///C:\\Users\\Anwender\\Jose Portilla DAnalysis\\dlt_ipykernel_launcher.duckdb location to store data\n",
      "Load package 1707333305.5524275 is LOADED and contains no failed jobs\n"
     ]
    }
   ],
   "source": [
    "import duckdb\n",
    "import dlt\n",
    "\n",
    "square_root_generator_pipeline = dlt.pipeline(destination='duckdb', dataset_name='generators')\n",
    "\n",
    "def people_1():\n",
    "    for i in range(1, 6):\n",
    "        yield {\"ID\": i, \"Name\": f\"Person_{i}\", \"Age\": 25 + i, \"City\": \"City_A\"}\n",
    "    \n",
    "\n",
    "def people_2():\n",
    "    for i in range(3, 9):  # Starting from 6 to avoid overlapping IDs\n",
    "        yield {\"ID\": i, \"Name\": f\"Person_{i}\", \"Age\": 30 + i, \"City\": \"City_B\", \"Occupation\": f\"Job_{i}\"}\n",
    "        \n",
    "        \n",
    "table_one = square_root_generator_pipeline.run(people_1(),table_name=\"table_one\", write_disposition=\"replace\")\n",
    "print(table_one)        \n",
    "\n",
    "table_two = square_root_generator_pipeline.run(people_2(),table_name=\"table_two\", write_disposition=\"replace\")\n",
    "print(table_two)        "
   ]
  },
  {
   "cell_type": "code",
   "execution_count": 53,
   "id": "42031058",
   "metadata": {},
   "outputs": [
    {
     "name": "stdout",
     "output_type": "stream",
     "text": [
      "   ID      Name  Age    City Occupation\n",
      "0   1  Person_1   26  City_A       None\n",
      "1   2  Person_2   27  City_A       None\n",
      "2   3  Person_3   33  City_B      Job_3\n",
      "3   4  Person_4   34  City_B      Job_4\n",
      "4   5  Person_5   35  City_B      Job_5\n",
      "5   6  Person_6   36  City_B      Job_6\n",
      "6   7  Person_7   37  City_B      Job_7\n",
      "7   8  Person_8   38  City_B      Job_8 \n",
      "\n",
      "\n",
      "Sum of all ages of people: 266\n"
     ]
    }
   ],
   "source": [
    "import duckdb\n",
    "\n",
    "# Define generator functions for people\n",
    "def people_1():\n",
    "    for i in range(1, 6):\n",
    "        yield {\"ID\": i, \"Name\": f\"Person_{i}\", \"Age\": 25 + i, \"City\": \"City_A\"}\n",
    "\n",
    "def people_2():\n",
    "    for i in range(3, 9):\n",
    "        yield {\"ID\": i, \"Name\": f\"Person_{i}\", \"Age\": 30 + i, \"City\": \"City_B\", \"Occupation\": f\"Job_{i}\"}\n",
    "\n",
    "# Create a DuckDB connection\n",
    "conn = duckdb.connect(\":memory:\")\n",
    "\n",
    "# Create a new table with a primary key on ID\n",
    "conn.execute(\"\"\"\n",
    "CREATE TABLE people (\n",
    "    ID INTEGER PRIMARY KEY,\n",
    "    Name VARCHAR,\n",
    "    Age INTEGER,\n",
    "    City VARCHAR,\n",
    "    Occupation VARCHAR\n",
    ")\n",
    "\"\"\")\n",
    "\n",
    "# Load data from the first generator into the table\n",
    "for person in people_1():\n",
    "    conn.execute(\"INSERT INTO people VALUES (?, ?, ?, ?, NULL)\", \n",
    "                 (person[\"ID\"], \n",
    "                  person[\"Name\"], \n",
    "                  person[\"Age\"], \n",
    "                  person[\"City\"]))\n",
    "\n",
    "# Merge data from the second generator into the same table\n",
    "for person in people_2():\n",
    "    conn.execute(\"\"\"\n",
    "    INSERT INTO people VALUES (?, ?, ?, ?, ?)\n",
    "    ON CONFLICT(ID) DO UPDATE SET Name=excluded.Name, \n",
    "    Age=excluded.Age, \n",
    "    City=excluded.City, \n",
    "    Occupation=excluded.Occupation\n",
    "    \"\"\", \n",
    "        (person[\"ID\"], \n",
    "          person[\"Name\"], \n",
    "          person[\"Age\"], \n",
    "          person[\"City\"], \n",
    "          person[\"Occupation\"]))\n",
    "\n",
    "# Fetch the combined data from the 'people' table\n",
    "combined_data = conn.execute(\"SELECT * FROM people\").fetch_df()\n",
    "\n",
    "# Display the combined data\n",
    "print(combined_data,'\\n\\n')\n",
    "\n",
    "# Calculate the sum of ages of all people in the 'people' table\n",
    "sum_of_ages = conn.execute(\"SELECT SUM(Age) FROM people\").fetchone()[0]\n",
    "\n",
    "# Close the connection\n",
    "conn.close()\n",
    "\n",
    "# Print the sum of ages\n",
    "print(\"Sum of all ages of people:\", sum_of_ages)\n"
   ]
  },
  {
   "cell_type": "markdown",
   "id": "48e7c1c0",
   "metadata": {},
   "source": [
    "# Question Nr 3 - Sum of all ages"
   ]
  },
  {
   "cell_type": "code",
   "execution_count": 59,
   "id": "99ed902b",
   "metadata": {},
   "outputs": [
    {
     "name": "stdout",
     "output_type": "stream",
     "text": [
      "Total Age: 353\n"
     ]
    }
   ],
   "source": [
    "def people_1():\n",
    "    for i in range(1, 6):\n",
    "        yield {\"ID\": i, \"Name\": f\"Person_{i}\", \"Age\": 25 + i, \"City\": \"City_A\"}\n",
    "\n",
    "def people_2():\n",
    "    for i in range(3, 9):\n",
    "        yield {\"ID\": i, \"Name\": f\"Person_{i}\", \"Age\": 30 + i, \"City\": \"City_B\", \"Occupation\": f\"Job_{i}\"}\n",
    "\n",
    "# Sum of ages for people_1\n",
    "total_age_1 = sum(person[\"Age\"] for person in people_1())\n",
    "\n",
    "# Sum of ages for people_2\n",
    "total_age_2 = sum(person[\"Age\"] for person in people_2())\n",
    "\n",
    "# Combine the totals\n",
    "total_age_combined = total_age_1 + total_age_2\n",
    "\n",
    "print(\"Total Age:\", total_age_combined)\n"
   ]
  },
  {
   "cell_type": "markdown",
   "id": "27aca0aa",
   "metadata": {},
   "source": [
    "## Question Nr 4 - Sum all ages with ID"
   ]
  },
  {
   "cell_type": "code",
   "execution_count": 60,
   "id": "29479db6",
   "metadata": {},
   "outputs": [
    {
     "name": "stdout",
     "output_type": "stream",
     "text": [
      "   ID      Name  Age    City Occupation\n",
      "0   1  Person_1   26  City_A       None\n",
      "1   2  Person_2   27  City_A       None\n",
      "2   3  Person_3   33  City_B      Job_3\n",
      "3   4  Person_4   34  City_B      Job_4\n",
      "4   5  Person_5   35  City_B      Job_5\n",
      "5   6  Person_6   36  City_B      Job_6\n",
      "6   7  Person_7   37  City_B      Job_7\n",
      "7   8  Person_8   38  City_B      Job_8 \n",
      "\n",
      "\n",
      "Sum of all ages of people: 266\n"
     ]
    }
   ],
   "source": [
    "import duckdb\n",
    "import dlt\n",
    "\n",
    "# Define generator functions for people\n",
    "def people_1():\n",
    "    for i in range(1, 6):\n",
    "        yield {\"ID\": i, \"Name\": f\"Person_{i}\", \"Age\": 25 + i, \"City\": \"City_A\"}\n",
    "\n",
    "def people_2():\n",
    "    for i in range(3, 9):\n",
    "        yield {\"ID\": i, \"Name\": f\"Person_{i}\", \"Age\": 30 + i, \"City\": \"City_B\", \"Occupation\": f\"Job_{i}\"}\n",
    "\n",
    "# Create a DuckDB connection\n",
    "conn = duckdb.connect(\":memory:\")\n",
    "\n",
    "# Create a new table with a primary key on ID\n",
    "conn.execute(\"\"\"\n",
    "CREATE TABLE people (\n",
    "    ID INTEGER PRIMARY KEY,\n",
    "    Name VARCHAR,\n",
    "    Age INTEGER,\n",
    "    City VARCHAR,\n",
    "    Occupation VARCHAR\n",
    ")\n",
    "\"\"\")\n",
    "\n",
    "# Load data from the first generator into the table\n",
    "for person in people_1():\n",
    "    conn.execute(\"INSERT INTO people VALUES (?, ?, ?, ?, NULL)\", \n",
    "                 (person[\"ID\"], \n",
    "                  person[\"Name\"], \n",
    "                  person[\"Age\"], \n",
    "                  person[\"City\"]))\n",
    "\n",
    "# Merge data from the second generator into the same table\n",
    "for person in people_2():\n",
    "    conn.execute(\"\"\"\n",
    "    INSERT INTO people VALUES (?, ?, ?, ?, ?)\n",
    "    ON CONFLICT(ID) DO UPDATE SET Name=excluded.Name, \n",
    "    Age=excluded.Age, \n",
    "    City=excluded.City, \n",
    "    Occupation=excluded.Occupation\n",
    "    \"\"\", \n",
    "        (person[\"ID\"], \n",
    "          person[\"Name\"], \n",
    "          person[\"Age\"], \n",
    "          person[\"City\"], \n",
    "          person[\"Occupation\"]))\n",
    "\n",
    "\n",
    "combined_data = conn.execute(\"SELECT * FROM people\").fetch_df()\n",
    "print(combined_data,'\\n\\n')\n",
    "\n",
    "# Calculate the sum of ages of all people in the 'people' table\n",
    "sum_of_ages = conn.execute(\"SELECT SUM(Age) FROM people\").fetchone()[0]\n",
    "\n",
    "# Close the connection\n",
    "conn.close()\n",
    "\n",
    "# Print the sum of ages\n",
    "print(\"Sum of all ages of people:\", sum_of_ages)\n"
   ]
  }
 ],
 "metadata": {
  "kernelspec": {
   "display_name": "Python 3 (ipykernel)",
   "language": "python",
   "name": "python3"
  },
  "language_info": {
   "codemirror_mode": {
    "name": "ipython",
    "version": 3
   },
   "file_extension": ".py",
   "mimetype": "text/x-python",
   "name": "python",
   "nbconvert_exporter": "python",
   "pygments_lexer": "ipython3",
   "version": "3.10.13"
  }
 },
 "nbformat": 4,
 "nbformat_minor": 5
}
